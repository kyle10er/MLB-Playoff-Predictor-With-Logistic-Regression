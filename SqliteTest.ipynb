{
 "cells": [
  {
   "cell_type": "code",
   "execution_count": 1,
   "id": "2a80efb5-3c78-4f4c-88d7-6e9683a11e8c",
   "metadata": {},
   "outputs": [],
   "source": [
    "# Python SQL toolkit and Object Relational Mapper\n",
    "import sqlalchemy\n",
    "from sqlalchemy.ext.automap import automap_base\n",
    "from sqlalchemy.orm import Session\n",
    "from sqlalchemy import create_engine, func\n",
    "import pandas as pd"
   ]
  },
  {
   "cell_type": "code",
   "execution_count": 2,
   "id": "256d76cc-46a0-4d58-ad75-3d16d254089d",
   "metadata": {},
   "outputs": [],
   "source": [
    "#Create engine using Playoffs.sqlite database file\n",
    "#engine = create_engine(\"sqlite:///../Playoffs.sqlite\")"
   ]
  },
  {
   "cell_type": "code",
   "execution_count": null,
   "id": "0dad49ff-e4cc-48ea-b2b7-e68cd5fe985e",
   "metadata": {},
   "outputs": [],
   "source": [
    "engine = create_engine(\""
   ]
  },
  {
   "cell_type": "code",
   "execution_count": null,
   "id": "211110dc-a3d3-4419-ab20-1b4114b09554",
   "metadata": {},
   "outputs": [],
   "source": [
    "Base = automap_base()\n",
    "Base.prepare(autoload_with=engine)"
   ]
  },
  {
   "cell_type": "code",
   "execution_count": 4,
   "id": "82dfba45-e66f-4ee7-88d5-51299ea8f80d",
   "metadata": {},
   "outputs": [
    {
     "data": {
      "text/plain": [
       "[]"
      ]
     },
     "execution_count": 4,
     "metadata": {},
     "output_type": "execute_result"
    }
   ],
   "source": [
    "#Print the classes mapped to the Base\n",
    "Base.classes.keys()"
   ]
  },
  {
   "cell_type": "code",
   "execution_count": 6,
   "id": "6d92a9ec-11f9-41de-aac2-53a80f87fe36",
   "metadata": {},
   "outputs": [
    {
     "ename": "AttributeError",
     "evalue": "measurement",
     "output_type": "error",
     "traceback": [
      "\u001b[0;31m---------------------------------------------------------------------------\u001b[0m",
      "\u001b[0;31mKeyError\u001b[0m                                  Traceback (most recent call last)",
      "File \u001b[0;32m/opt/anaconda3/envs/dev/lib/python3.10/site-packages/sqlalchemy/util/_collections.py:214\u001b[0m, in \u001b[0;36mProperties.__getattr__\u001b[0;34m(self, key)\u001b[0m\n\u001b[1;32m    213\u001b[0m \u001b[38;5;28;01mtry\u001b[39;00m:\n\u001b[0;32m--> 214\u001b[0m     \u001b[38;5;28;01mreturn\u001b[39;00m \u001b[38;5;28;43mself\u001b[39;49m\u001b[38;5;241;43m.\u001b[39;49m\u001b[43m_data\u001b[49m\u001b[43m[\u001b[49m\u001b[43mkey\u001b[49m\u001b[43m]\u001b[49m\n\u001b[1;32m    215\u001b[0m \u001b[38;5;28;01mexcept\u001b[39;00m \u001b[38;5;167;01mKeyError\u001b[39;00m:\n",
      "\u001b[0;31mKeyError\u001b[0m: 'measurement'",
      "\nDuring handling of the above exception, another exception occurred:\n",
      "\u001b[0;31mAttributeError\u001b[0m                            Traceback (most recent call last)",
      "Cell \u001b[0;32mIn[6], line 3\u001b[0m\n\u001b[1;32m      1\u001b[0m \u001b[38;5;66;03m#Assign the Playoffs class to a variable called 'Playoffs'\u001b[39;00m\n\u001b[1;32m      2\u001b[0m \u001b[38;5;66;03m#Playoffs = Base.classes.Playoffs\u001b[39;00m\n\u001b[0;32m----> 3\u001b[0m \u001b[43mBase\u001b[49m\u001b[38;5;241;43m.\u001b[39;49m\u001b[43mclasses\u001b[49m\u001b[38;5;241;43m.\u001b[39;49m\u001b[43mmeasurement\u001b[49m\n",
      "File \u001b[0;32m/opt/anaconda3/envs/dev/lib/python3.10/site-packages/sqlalchemy/util/_collections.py:216\u001b[0m, in \u001b[0;36mProperties.__getattr__\u001b[0;34m(self, key)\u001b[0m\n\u001b[1;32m    214\u001b[0m     \u001b[38;5;28;01mreturn\u001b[39;00m \u001b[38;5;28mself\u001b[39m\u001b[38;5;241m.\u001b[39m_data[key]\n\u001b[1;32m    215\u001b[0m \u001b[38;5;28;01mexcept\u001b[39;00m \u001b[38;5;167;01mKeyError\u001b[39;00m:\n\u001b[0;32m--> 216\u001b[0m     \u001b[38;5;28;01mraise\u001b[39;00m \u001b[38;5;167;01mAttributeError\u001b[39;00m(key)\n",
      "\u001b[0;31mAttributeError\u001b[0m: measurement"
     ]
    }
   ],
   "source": [
    "#Assign the Playoffs class to a variable called 'Playoffs'\n",
    "Playoffs = Base.classes.Playoffs\n"
   ]
  },
  {
   "cell_type": "code",
   "execution_count": null,
   "id": "2d32bded-5dba-4dbd-b323-6405cc341f47",
   "metadata": {},
   "outputs": [],
   "source": [
    "#Create a session\n",
    "session = Session(engine)"
   ]
  },
  {
   "cell_type": "code",
   "execution_count": null,
   "id": "e6eb96f3-8354-464d-b505-abf94001407c",
   "metadata": {},
   "outputs": [],
   "source": [
    "first_row = session.query(Playoffs).first()\n",
    "first_row.__dict__"
   ]
  },
  {
   "cell_type": "code",
   "execution_count": null,
   "id": "1a4d9dc7-1076-4d1a-8f10-bcddfb0fd2ef",
   "metadata": {},
   "outputs": [],
   "source": [
    "data = session.query(Playoffs.BK, Playoffs.CG_y, Playoffs.Ch, Playoffs.GF, Playoffs.SB, Playoffs.cSho, Playoffs.playoffs).all()\n",
    "data"
   ]
  },
  {
   "cell_type": "code",
   "execution_count": null,
   "id": "4e989905",
   "metadata": {},
   "outputs": [],
   "source": [
    "data_df = pd.DataFrame(data=data, columns=['BK', 'CG_y', 'Ch', 'GF', 'SB', 'cSho', 'playoffs'])\n",
    "data_df"
   ]
  }
 ],
 "metadata": {
  "kernelspec": {
   "display_name": "Python 3 (ipykernel)",
   "language": "python",
   "name": "python3"
  },
  "language_info": {
   "codemirror_mode": {
    "name": "ipython",
    "version": 3
   },
   "file_extension": ".py",
   "mimetype": "text/x-python",
   "name": "python",
   "nbconvert_exporter": "python",
   "pygments_lexer": "ipython3",
   "version": "3.10.14"
  }
 },
 "nbformat": 4,
 "nbformat_minor": 5
}
