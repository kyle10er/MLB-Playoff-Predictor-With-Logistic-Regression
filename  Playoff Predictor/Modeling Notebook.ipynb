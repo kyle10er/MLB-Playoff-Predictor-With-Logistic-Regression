{
 "cells": [
  {
   "cell_type": "code",
   "execution_count": 1,
   "metadata": {},
   "outputs": [],
   "source": [
    "# Initial imports\n",
    "import pandas as pd\n",
    "from pathlib import Path\n",
    "from sklearn.model_selection import train_test_split\n",
    "from sklearn.preprocessing import StandardScaler\n",
    "from sklearn.linear_model import LogisticRegression\n",
    "from sklearn.ensemble import RandomForestClassifier\n",
    "from sklearn.neighbors import KNeighborsClassifier\n",
    "from sklearn.metrics import confusion_matrix,classification_report\n",
    "from sklearn.metrics import accuracy_score\n",
    "from joblib import dump,load"
   ]
  },
  {
   "cell_type": "markdown",
   "metadata": {},
   "source": [
    "## Read in cleaned CSVs"
   ]
  },
  {
   "cell_type": "code",
   "execution_count": 2,
   "metadata": {},
   "outputs": [],
   "source": [
    "combined_data = pd.read_csv(\"Resources/Cleaned CSVs/Combined_Data.csv\")\n",
    "\n",
    "df_2024 = pd.read_csv(\"Resources/Cleaned CSVs/Cleaned_2024.csv\")"
   ]
  },
  {
   "cell_type": "markdown",
   "metadata": {},
   "source": [
    " ## Prep the data for modeling"
   ]
  },
  {
   "cell_type": "code",
   "execution_count": 3,
   "metadata": {},
   "outputs": [],
   "source": [
    "#Drop the teams column\n",
    "combined_data.drop('Tm', axis=1, inplace=True)\n",
    "\n",
    "# Separate the Features (X) from the Target (y)\n",
    "\n",
    "y = combined_data[\"playoffs\"]\n",
    "X = combined_data.drop(columns=\"playoffs\")\n",
    "\n",
    "# Splitting into Train and Test sets\n",
    "X_train, X_test, y_train, y_test = train_test_split(X, y, stratify=y)\n",
    "\n",
    "# Create the StandardScaler instance\n",
    "scaler = StandardScaler()\n",
    "# Fit the Standard Scaler with the training data\n",
    "X_scaler = scaler.fit(X_train)\n",
    "# Scale the training data\n",
    "X_train_scaled = X_scaler.transform(X_train)\n",
    "X_test_scaled = X_scaler.transform(X_test)"
   ]
  },
  {
   "cell_type": "markdown",
   "metadata": {},
   "source": [
    " ## Create a Logistic Regression Model"
   ]
  },
  {
   "cell_type": "code",
   "execution_count": 4,
   "metadata": {},
   "outputs": [],
   "source": [
    "lr_model = LogisticRegression(solver='liblinear', max_iter=100)\n",
    "# Fit the model\n",
    "lr_model = lr_model.fit(X_train, y_train)"
   ]
  },
  {
   "cell_type": "markdown",
   "metadata": {},
   "source": [
    " ## Create a Random Forest Model"
   ]
  },
  {
   "cell_type": "code",
   "execution_count": 5,
   "metadata": {},
   "outputs": [],
   "source": [
    "rf_model = RandomForestClassifier(n_estimators=500)\n",
    "# Fit the model\n",
    "rf_model = rf_model.fit(X_train_scaled, y_train)"
   ]
  },
  {
   "cell_type": "markdown",
   "metadata": {},
   "source": [
    " ## Create a K Nearest Neighbors Model"
   ]
  },
  {
   "cell_type": "code",
   "execution_count": 6,
   "metadata": {},
   "outputs": [
    {
     "data": {
      "text/html": [
       "<style>#sk-container-id-1 {color: black;}#sk-container-id-1 pre{padding: 0;}#sk-container-id-1 div.sk-toggleable {background-color: white;}#sk-container-id-1 label.sk-toggleable__label {cursor: pointer;display: block;width: 100%;margin-bottom: 0;padding: 0.3em;box-sizing: border-box;text-align: center;}#sk-container-id-1 label.sk-toggleable__label-arrow:before {content: \"▸\";float: left;margin-right: 0.25em;color: #696969;}#sk-container-id-1 label.sk-toggleable__label-arrow:hover:before {color: black;}#sk-container-id-1 div.sk-estimator:hover label.sk-toggleable__label-arrow:before {color: black;}#sk-container-id-1 div.sk-toggleable__content {max-height: 0;max-width: 0;overflow: hidden;text-align: left;background-color: #f0f8ff;}#sk-container-id-1 div.sk-toggleable__content pre {margin: 0.2em;color: black;border-radius: 0.25em;background-color: #f0f8ff;}#sk-container-id-1 input.sk-toggleable__control:checked~div.sk-toggleable__content {max-height: 200px;max-width: 100%;overflow: auto;}#sk-container-id-1 input.sk-toggleable__control:checked~label.sk-toggleable__label-arrow:before {content: \"▾\";}#sk-container-id-1 div.sk-estimator input.sk-toggleable__control:checked~label.sk-toggleable__label {background-color: #d4ebff;}#sk-container-id-1 div.sk-label input.sk-toggleable__control:checked~label.sk-toggleable__label {background-color: #d4ebff;}#sk-container-id-1 input.sk-hidden--visually {border: 0;clip: rect(1px 1px 1px 1px);clip: rect(1px, 1px, 1px, 1px);height: 1px;margin: -1px;overflow: hidden;padding: 0;position: absolute;width: 1px;}#sk-container-id-1 div.sk-estimator {font-family: monospace;background-color: #f0f8ff;border: 1px dotted black;border-radius: 0.25em;box-sizing: border-box;margin-bottom: 0.5em;}#sk-container-id-1 div.sk-estimator:hover {background-color: #d4ebff;}#sk-container-id-1 div.sk-parallel-item::after {content: \"\";width: 100%;border-bottom: 1px solid gray;flex-grow: 1;}#sk-container-id-1 div.sk-label:hover label.sk-toggleable__label {background-color: #d4ebff;}#sk-container-id-1 div.sk-serial::before {content: \"\";position: absolute;border-left: 1px solid gray;box-sizing: border-box;top: 0;bottom: 0;left: 50%;z-index: 0;}#sk-container-id-1 div.sk-serial {display: flex;flex-direction: column;align-items: center;background-color: white;padding-right: 0.2em;padding-left: 0.2em;position: relative;}#sk-container-id-1 div.sk-item {position: relative;z-index: 1;}#sk-container-id-1 div.sk-parallel {display: flex;align-items: stretch;justify-content: center;background-color: white;position: relative;}#sk-container-id-1 div.sk-item::before, #sk-container-id-1 div.sk-parallel-item::before {content: \"\";position: absolute;border-left: 1px solid gray;box-sizing: border-box;top: 0;bottom: 0;left: 50%;z-index: -1;}#sk-container-id-1 div.sk-parallel-item {display: flex;flex-direction: column;z-index: 1;position: relative;background-color: white;}#sk-container-id-1 div.sk-parallel-item:first-child::after {align-self: flex-end;width: 50%;}#sk-container-id-1 div.sk-parallel-item:last-child::after {align-self: flex-start;width: 50%;}#sk-container-id-1 div.sk-parallel-item:only-child::after {width: 0;}#sk-container-id-1 div.sk-dashed-wrapped {border: 1px dashed gray;margin: 0 0.4em 0.5em 0.4em;box-sizing: border-box;padding-bottom: 0.4em;background-color: white;}#sk-container-id-1 div.sk-label label {font-family: monospace;font-weight: bold;display: inline-block;line-height: 1.2em;}#sk-container-id-1 div.sk-label-container {text-align: center;}#sk-container-id-1 div.sk-container {/* jupyter's `normalize.less` sets `[hidden] { display: none; }` but bootstrap.min.css set `[hidden] { display: none !important; }` so we also need the `!important` here to be able to override the default hidden behavior on the sphinx rendered scikit-learn.org. See: https://github.com/scikit-learn/scikit-learn/issues/21755 */display: inline-block !important;position: relative;}#sk-container-id-1 div.sk-text-repr-fallback {display: none;}</style><div id=\"sk-container-id-1\" class=\"sk-top-container\"><div class=\"sk-text-repr-fallback\"><pre>KNeighborsClassifier(n_neighbors=6)</pre><b>In a Jupyter environment, please rerun this cell to show the HTML representation or trust the notebook. <br />On GitHub, the HTML representation is unable to render, please try loading this page with nbviewer.org.</b></div><div class=\"sk-container\" hidden><div class=\"sk-item\"><div class=\"sk-estimator sk-toggleable\"><input class=\"sk-toggleable__control sk-hidden--visually\" id=\"sk-estimator-id-1\" type=\"checkbox\" checked><label for=\"sk-estimator-id-1\" class=\"sk-toggleable__label sk-toggleable__label-arrow\">KNeighborsClassifier</label><div class=\"sk-toggleable__content\"><pre>KNeighborsClassifier(n_neighbors=6)</pre></div></div></div></div></div>"
      ],
      "text/plain": [
       "KNeighborsClassifier(n_neighbors=6)"
      ]
     },
     "execution_count": 6,
     "metadata": {},
     "output_type": "execute_result"
    }
   ],
   "source": [
    "knn_model = KNeighborsClassifier(n_neighbors=6)\n",
    "# Fit the model\n",
    "knn_model.fit(X_train_scaled, y_train)"
   ]
  },
  {
   "cell_type": "code",
   "execution_count": 7,
   "metadata": {},
   "outputs": [],
   "source": [
    "# Create predictions\n",
    "y_pred_train = knn_model.predict(X_train_scaled)\n",
    "y_pred_test = knn_model.predict(X_test_scaled)\n",
    "# Calculate the accuracy score\n",
    "test_acc_score = accuracy_score(y_pred_test, y_test)\n",
    "train_acc_score = accuracy_score(y_pred_train, y_train)"
   ]
  },
  {
   "cell_type": "markdown",
   "metadata": {},
   "source": [
    " ## Score the models using the test data"
   ]
  },
  {
   "cell_type": "code",
   "execution_count": 8,
   "metadata": {},
   "outputs": [
    {
     "name": "stdout",
     "output_type": "stream",
     "text": [
      "Logistic Regression Training Data Score: 1.0\n",
      "Logistic Regression Testing Data Score: 0.8157894736842105\n",
      "-----------------------------------------------------------------\n",
      "Random Forest Training Data Score: 1.0\n",
      "Random Forest Testing Data Score: 0.8421052631578947\n",
      "-----------------------------------------------------------------\n",
      "K Nearest Neighbors Training Data Score: 0.8660714285714286\n",
      "K Nearest Neighbors Training Data Score : 0.7894736842105263\n"
     ]
    }
   ],
   "source": [
    "print(f\"Logistic Regression Training Data Score: {lr_model.score(X_train, y_train)}\")\n",
    "print(f\"Logistic Regression Testing Data Score: {lr_model.score(X_test, y_test)}\")\n",
    "print(f\"-----------------------------------------------------------------\")\n",
    "print(f\"Random Forest Training Data Score: {rf_model.score(X_train_scaled, y_train)}\")\n",
    "print(f\"Random Forest Testing Data Score: {rf_model.score(X_test_scaled, y_test)}\")\n",
    "print(f\"-----------------------------------------------------------------\")\n",
    "print(f\"K Nearest Neighbors Training Data Score: {train_acc_score}\")\n",
    "print(f\"K Nearest Neighbors Training Data Score : {test_acc_score}\")"
   ]
  },
  {
   "cell_type": "markdown",
   "metadata": {},
   "source": [
    "## Identifying Independant Variables to Optimize the Models"
   ]
  },
  {
   "cell_type": "code",
   "execution_count": 9,
   "metadata": {},
   "outputs": [
    {
     "data": {
      "text/plain": [
       "#Bat       -0.272665\n",
       "#Fld       -0.274598\n",
       "#P         -0.175295\n",
       "2B          0.302605\n",
       "3B         -0.100437\n",
       "              ...   \n",
       "WHIP       -0.607284\n",
       "WP         -0.225175\n",
       "cSho        0.026995\n",
       "tSho        0.454448\n",
       "playoffs    1.000000\n",
       "Name: playoffs, Length: 78, dtype: float64"
      ]
     },
     "execution_count": 9,
     "metadata": {},
     "output_type": "execute_result"
    }
   ],
   "source": [
    "#Run a correlation test on the playoffs column\n",
    "\n",
    "corr_data = combined_data.corr()['playoffs']\n",
    "\n",
    "corr_data"
   ]
  },
  {
   "cell_type": "code",
   "execution_count": 10,
   "metadata": {},
   "outputs": [
    {
     "data": {
      "text/plain": [
       "['BK', 'CG_y', 'Ch', 'GF', 'SB', 'cSho']"
      ]
     },
     "execution_count": 10,
     "metadata": {},
     "output_type": "execute_result"
    }
   ],
   "source": [
    "#From the results limit our scope to those values closest to zero to find the most independent variables\n",
    "\n",
    "low_corr_df = pd.DataFrame(corr_data.loc[(corr_data <= 0.1) & (corr_data >= -0.1)])\n",
    "low_corr_df.rename(columns={'playoffs': 'correlation'}, inplace=True)\n",
    "\n",
    "#Save the independent variables to a list\n",
    "\n",
    "index_values = low_corr_df.index.tolist()\n",
    "\n",
    "index_values"
   ]
  },
  {
   "cell_type": "code",
   "execution_count": 11,
   "metadata": {},
   "outputs": [
    {
     "data": {
      "text/html": [
       "<div>\n",
       "<style scoped>\n",
       "    .dataframe tbody tr th:only-of-type {\n",
       "        vertical-align: middle;\n",
       "    }\n",
       "\n",
       "    .dataframe tbody tr th {\n",
       "        vertical-align: top;\n",
       "    }\n",
       "\n",
       "    .dataframe thead th {\n",
       "        text-align: right;\n",
       "    }\n",
       "</style>\n",
       "<table border=\"1\" class=\"dataframe\">\n",
       "  <thead>\n",
       "    <tr style=\"text-align: right;\">\n",
       "      <th></th>\n",
       "      <th>BK</th>\n",
       "      <th>CG_y</th>\n",
       "      <th>Ch</th>\n",
       "      <th>GF</th>\n",
       "      <th>SB</th>\n",
       "      <th>cSho</th>\n",
       "      <th>playoffs</th>\n",
       "    </tr>\n",
       "  </thead>\n",
       "  <tbody>\n",
       "    <tr>\n",
       "      <th>0</th>\n",
       "      <td>5.0</td>\n",
       "      <td>2.0</td>\n",
       "      <td>6150.0</td>\n",
       "      <td>160.0</td>\n",
       "      <td>79.0</td>\n",
       "      <td>1.0</td>\n",
       "      <td>0</td>\n",
       "    </tr>\n",
       "    <tr>\n",
       "      <th>1</th>\n",
       "      <td>8.0</td>\n",
       "      <td>2.0</td>\n",
       "      <td>5889.0</td>\n",
       "      <td>160.0</td>\n",
       "      <td>90.0</td>\n",
       "      <td>1.0</td>\n",
       "      <td>1</td>\n",
       "    </tr>\n",
       "    <tr>\n",
       "      <th>2</th>\n",
       "      <td>8.0</td>\n",
       "      <td>2.0</td>\n",
       "      <td>5934.0</td>\n",
       "      <td>160.0</td>\n",
       "      <td>81.0</td>\n",
       "      <td>0.0</td>\n",
       "      <td>0</td>\n",
       "    </tr>\n",
       "    <tr>\n",
       "      <th>3</th>\n",
       "      <td>3.0</td>\n",
       "      <td>2.0</td>\n",
       "      <td>5819.0</td>\n",
       "      <td>160.0</td>\n",
       "      <td>125.0</td>\n",
       "      <td>0.0</td>\n",
       "      <td>1</td>\n",
       "    </tr>\n",
       "    <tr>\n",
       "      <th>4</th>\n",
       "      <td>3.0</td>\n",
       "      <td>1.0</td>\n",
       "      <td>6208.0</td>\n",
       "      <td>162.0</td>\n",
       "      <td>66.0</td>\n",
       "      <td>0.0</td>\n",
       "      <td>1</td>\n",
       "    </tr>\n",
       "    <tr>\n",
       "      <th>...</th>\n",
       "      <td>...</td>\n",
       "      <td>...</td>\n",
       "      <td>...</td>\n",
       "      <td>...</td>\n",
       "      <td>...</td>\n",
       "      <td>...</td>\n",
       "      <td>...</td>\n",
       "    </tr>\n",
       "    <tr>\n",
       "      <th>145</th>\n",
       "      <td>7.0</td>\n",
       "      <td>0.0</td>\n",
       "      <td>5944.0</td>\n",
       "      <td>162.0</td>\n",
       "      <td>101.0</td>\n",
       "      <td>0.0</td>\n",
       "      <td>0</td>\n",
       "    </tr>\n",
       "    <tr>\n",
       "      <th>146</th>\n",
       "      <td>1.0</td>\n",
       "      <td>0.0</td>\n",
       "      <td>5802.0</td>\n",
       "      <td>162.0</td>\n",
       "      <td>160.0</td>\n",
       "      <td>0.0</td>\n",
       "      <td>1</td>\n",
       "    </tr>\n",
       "    <tr>\n",
       "      <th>147</th>\n",
       "      <td>4.0</td>\n",
       "      <td>3.0</td>\n",
       "      <td>5789.0</td>\n",
       "      <td>159.0</td>\n",
       "      <td>79.0</td>\n",
       "      <td>1.0</td>\n",
       "      <td>1</td>\n",
       "    </tr>\n",
       "    <tr>\n",
       "      <th>148</th>\n",
       "      <td>12.0</td>\n",
       "      <td>1.0</td>\n",
       "      <td>5733.0</td>\n",
       "      <td>161.0</td>\n",
       "      <td>99.0</td>\n",
       "      <td>1.0</td>\n",
       "      <td>1</td>\n",
       "    </tr>\n",
       "    <tr>\n",
       "      <th>149</th>\n",
       "      <td>8.0</td>\n",
       "      <td>0.0</td>\n",
       "      <td>5880.0</td>\n",
       "      <td>162.0</td>\n",
       "      <td>127.0</td>\n",
       "      <td>0.0</td>\n",
       "      <td>0</td>\n",
       "    </tr>\n",
       "  </tbody>\n",
       "</table>\n",
       "<p>150 rows × 7 columns</p>\n",
       "</div>"
      ],
      "text/plain": [
       "       BK  CG_y      Ch     GF     SB  cSho  playoffs\n",
       "0     5.0   2.0  6150.0  160.0   79.0   1.0         0\n",
       "1     8.0   2.0  5889.0  160.0   90.0   1.0         1\n",
       "2     8.0   2.0  5934.0  160.0   81.0   0.0         0\n",
       "3     3.0   2.0  5819.0  160.0  125.0   0.0         1\n",
       "4     3.0   1.0  6208.0  162.0   66.0   0.0         1\n",
       "..    ...   ...     ...    ...    ...   ...       ...\n",
       "145   7.0   0.0  5944.0  162.0  101.0   0.0         0\n",
       "146   1.0   0.0  5802.0  162.0  160.0   0.0         1\n",
       "147   4.0   3.0  5789.0  159.0   79.0   1.0         1\n",
       "148  12.0   1.0  5733.0  161.0   99.0   1.0         1\n",
       "149   8.0   0.0  5880.0  162.0  127.0   0.0         0\n",
       "\n",
       "[150 rows x 7 columns]"
      ]
     },
     "execution_count": 11,
     "metadata": {},
     "output_type": "execute_result"
    }
   ],
   "source": [
    "#Amend the data to only include the independent variables\n",
    "columns_to_keep = index_values + ['playoffs']\n",
    "\n",
    "focused_df = combined_data[columns_to_keep]\n",
    "df_2024_focused = combined_data[columns_to_keep]\n",
    "\n",
    "focused_df"
   ]
  },
  {
   "cell_type": "markdown",
   "metadata": {},
   "source": [
    "## Retrain the models based on independent variables"
   ]
  },
  {
   "cell_type": "code",
   "execution_count": 12,
   "metadata": {},
   "outputs": [],
   "source": [
    "focused_y = focused_df[\"playoffs\"]\n",
    "focused_X = focused_df.drop(columns=\"playoffs\")"
   ]
  },
  {
   "cell_type": "code",
   "execution_count": 13,
   "metadata": {},
   "outputs": [],
   "source": [
    "# Splitting into Train and Test sets\n",
    "focused_X_train, focused_X_test, focused_y_train, focused_y_test = train_test_split(focused_X, focused_y, stratify=y)"
   ]
  },
  {
   "cell_type": "code",
   "execution_count": 14,
   "metadata": {},
   "outputs": [],
   "source": [
    "# Create the StandardScaler instance\n",
    "scaler = StandardScaler()\n",
    "# Fit the Standard Scaler with the training data\n",
    "X_scaler = scaler.fit(focused_X_train)\n",
    "# Scale the training data\n",
    "focused_X_train_scaled = X_scaler.transform(focused_X_train)\n",
    "focused_X_test_scaled = X_scaler.transform(focused_X_test)"
   ]
  },
  {
   "cell_type": "code",
   "execution_count": 15,
   "metadata": {},
   "outputs": [],
   "source": [
    "# Logistic Regression\n",
    "focused_lr_model = LogisticRegression(solver='liblinear', max_iter=100)\n",
    "# Fit the model\n",
    "focused_lr_model = focused_lr_model.fit(focused_X_train, focused_y_train)"
   ]
  },
  {
   "cell_type": "code",
   "execution_count": 16,
   "metadata": {},
   "outputs": [],
   "source": [
    "# Random Forest\n",
    "focused_rf_model = RandomForestClassifier(n_estimators=500)\n",
    "# Fit the model\n",
    "focused_rf_model = focused_rf_model.fit(focused_X_train_scaled, focused_y_train)"
   ]
  },
  {
   "cell_type": "code",
   "execution_count": 17,
   "metadata": {},
   "outputs": [],
   "source": [
    "# K Nearest Neighbors\n",
    "focused_knn_model = KNeighborsClassifier(n_neighbors=6)\n",
    "# Fit the model\n",
    "focused_knn_model = focused_knn_model.fit(focused_X_train_scaled, focused_y_train)"
   ]
  },
  {
   "cell_type": "code",
   "execution_count": 18,
   "metadata": {},
   "outputs": [],
   "source": [
    "# Create predictions\n",
    "focused_y_pred_train = focused_knn_model.predict(focused_X_train_scaled)\n",
    "focused_y_pred_test = focused_knn_model.predict(focused_X_test_scaled)\n",
    "# Calculate the accuracy score\n",
    "focused_test_acc_score = accuracy_score(focused_y_pred_test, focused_y_test)\n",
    "focused_train_acc_score = accuracy_score(focused_y_pred_train, focused_y_train)"
   ]
  },
  {
   "cell_type": "code",
   "execution_count": 19,
   "metadata": {},
   "outputs": [
    {
     "name": "stdout",
     "output_type": "stream",
     "text": [
      "Logistic Regression Training Data Score: 0.6339285714285714\n",
      "Logistic Regression Testing Data Score: 0.5789473684210527\n",
      "-----------------------------------------------------------------\n",
      "Random Forest Training Data Score: 1.0\n",
      "Random Forest Testing Data Score: 0.39473684210526316\n",
      "-----------------------------------------------------------------\n",
      "K Nearest Neighbors Training Data Score: 0.75\n",
      "K Nearest Neighbors Training Data Score : 0.5\n"
     ]
    }
   ],
   "source": [
    "print(f\"Logistic Regression Training Data Score: {focused_lr_model.score(focused_X_train, focused_y_train)}\")\n",
    "print(f\"Logistic Regression Testing Data Score: {focused_lr_model.score(focused_X_test, focused_y_test)}\")\n",
    "print(f\"-----------------------------------------------------------------\")\n",
    "print(f\"Random Forest Training Data Score: {focused_rf_model.score(focused_X_train_scaled, focused_y_train)}\")\n",
    "print(f\"Random Forest Testing Data Score: {focused_rf_model.score(focused_X_test_scaled, focused_y_test)}\")\n",
    "print(f\"-----------------------------------------------------------------\")\n",
    "print(f\"K Nearest Neighbors Training Data Score: {focused_train_acc_score}\")\n",
    "print(f\"K Nearest Neighbors Training Data Score : {focused_test_acc_score}\")"
   ]
  },
  {
   "cell_type": "markdown",
   "metadata": {},
   "source": [
    "## Further Optimize the Logistic Regression Model"
   ]
  },
  {
   "cell_type": "code",
   "execution_count": 20,
   "metadata": {},
   "outputs": [],
   "source": [
    "# Logistic Regression\n",
    "focused_lr_model = LogisticRegression(solver='liblinear', max_iter=80)\n",
    "# Fit the model\n",
    "focused_lr_model = focused_lr_model.fit(focused_X_train, focused_y_train)"
   ]
  },
  {
   "cell_type": "code",
   "execution_count": 21,
   "metadata": {},
   "outputs": [
    {
     "name": "stdout",
     "output_type": "stream",
     "text": [
      "Logistic Regression Training Data Score: 0.6339285714285714\n",
      "Logistic Regression Testing Data Score: 0.5789473684210527\n"
     ]
    }
   ],
   "source": [
    "print(f\"Logistic Regression Training Data Score: {focused_lr_model.score(focused_X_train, focused_y_train)}\")\n",
    "print(f\"Logistic Regression Testing Data Score: {focused_lr_model.score(focused_X_test, focused_y_test)}\")"
   ]
  },
  {
   "cell_type": "markdown",
   "metadata": {},
   "source": [
    "# Save the pre-trained model"
   ]
  },
  {
   "cell_type": "code",
   "execution_count": 22,
   "metadata": {},
   "outputs": [
    {
     "data": {
      "text/plain": [
       "['log_model.joblib']"
      ]
     },
     "execution_count": 22,
     "metadata": {},
     "output_type": "execute_result"
    }
   ],
   "source": [
    "dump(focused_lr_model, 'log_model.joblib')"
   ]
  },
  {
   "cell_type": "code",
   "execution_count": 23,
   "metadata": {},
   "outputs": [],
   "source": [
    "model = load('log_model.joblib')"
   ]
  },
  {
   "cell_type": "code",
   "execution_count": 24,
   "metadata": {},
   "outputs": [
    {
     "data": {
      "text/plain": [
       "array([0, 0, 0, 1, 0, 0, 1, 0, 0, 0, 0, 0, 0, 0, 0, 0, 1, 0, 0, 0, 1, 0,\n",
       "       0, 0, 0, 0, 0, 0, 0, 0])"
      ]
     },
     "execution_count": 24,
     "metadata": {},
     "output_type": "execute_result"
    }
   ],
   "source": [
    "predictions_2024 = model.predict(df_2024[index_values])\n",
    "predictions_2024"
   ]
  },
  {
   "cell_type": "code",
   "execution_count": 25,
   "metadata": {},
   "outputs": [
    {
     "data": {
      "text/html": [
       "<div>\n",
       "<style scoped>\n",
       "    .dataframe tbody tr th:only-of-type {\n",
       "        vertical-align: middle;\n",
       "    }\n",
       "\n",
       "    .dataframe tbody tr th {\n",
       "        vertical-align: top;\n",
       "    }\n",
       "\n",
       "    .dataframe thead th {\n",
       "        text-align: right;\n",
       "    }\n",
       "</style>\n",
       "<table border=\"1\" class=\"dataframe\">\n",
       "  <thead>\n",
       "    <tr style=\"text-align: right;\">\n",
       "      <th></th>\n",
       "      <th>Tm</th>\n",
       "      <th>predictions</th>\n",
       "    </tr>\n",
       "  </thead>\n",
       "  <tbody>\n",
       "    <tr>\n",
       "      <th>0</th>\n",
       "      <td>Arizona Diamondbacks</td>\n",
       "      <td>0</td>\n",
       "    </tr>\n",
       "    <tr>\n",
       "      <th>1</th>\n",
       "      <td>Atlanta Braves</td>\n",
       "      <td>0</td>\n",
       "    </tr>\n",
       "    <tr>\n",
       "      <th>2</th>\n",
       "      <td>Baltimore Orioles</td>\n",
       "      <td>0</td>\n",
       "    </tr>\n",
       "    <tr>\n",
       "      <th>3</th>\n",
       "      <td>Boston Red Sox</td>\n",
       "      <td>1</td>\n",
       "    </tr>\n",
       "    <tr>\n",
       "      <th>4</th>\n",
       "      <td>Chicago Cubs</td>\n",
       "      <td>0</td>\n",
       "    </tr>\n",
       "    <tr>\n",
       "      <th>5</th>\n",
       "      <td>Chicago White Sox</td>\n",
       "      <td>0</td>\n",
       "    </tr>\n",
       "    <tr>\n",
       "      <th>6</th>\n",
       "      <td>Cincinnati Reds</td>\n",
       "      <td>1</td>\n",
       "    </tr>\n",
       "    <tr>\n",
       "      <th>7</th>\n",
       "      <td>Cleveland Guardians</td>\n",
       "      <td>0</td>\n",
       "    </tr>\n",
       "    <tr>\n",
       "      <th>8</th>\n",
       "      <td>Colorado Rockies</td>\n",
       "      <td>0</td>\n",
       "    </tr>\n",
       "    <tr>\n",
       "      <th>9</th>\n",
       "      <td>Detroit Tigers</td>\n",
       "      <td>0</td>\n",
       "    </tr>\n",
       "    <tr>\n",
       "      <th>10</th>\n",
       "      <td>Houston Astros</td>\n",
       "      <td>0</td>\n",
       "    </tr>\n",
       "    <tr>\n",
       "      <th>11</th>\n",
       "      <td>Kansas City Royals</td>\n",
       "      <td>0</td>\n",
       "    </tr>\n",
       "    <tr>\n",
       "      <th>12</th>\n",
       "      <td>Los Angeles Angels</td>\n",
       "      <td>0</td>\n",
       "    </tr>\n",
       "    <tr>\n",
       "      <th>13</th>\n",
       "      <td>Los Angeles Dodgers</td>\n",
       "      <td>0</td>\n",
       "    </tr>\n",
       "    <tr>\n",
       "      <th>14</th>\n",
       "      <td>Miami Marlins</td>\n",
       "      <td>0</td>\n",
       "    </tr>\n",
       "    <tr>\n",
       "      <th>15</th>\n",
       "      <td>Milwaukee Brewers</td>\n",
       "      <td>0</td>\n",
       "    </tr>\n",
       "    <tr>\n",
       "      <th>16</th>\n",
       "      <td>Minnesota Twins</td>\n",
       "      <td>1</td>\n",
       "    </tr>\n",
       "    <tr>\n",
       "      <th>17</th>\n",
       "      <td>New York Mets</td>\n",
       "      <td>0</td>\n",
       "    </tr>\n",
       "    <tr>\n",
       "      <th>18</th>\n",
       "      <td>New York Yankees</td>\n",
       "      <td>0</td>\n",
       "    </tr>\n",
       "    <tr>\n",
       "      <th>19</th>\n",
       "      <td>Oakland Athletics</td>\n",
       "      <td>0</td>\n",
       "    </tr>\n",
       "    <tr>\n",
       "      <th>20</th>\n",
       "      <td>Philadelphia Phillies</td>\n",
       "      <td>1</td>\n",
       "    </tr>\n",
       "    <tr>\n",
       "      <th>21</th>\n",
       "      <td>Pittsburgh Pirates</td>\n",
       "      <td>0</td>\n",
       "    </tr>\n",
       "    <tr>\n",
       "      <th>22</th>\n",
       "      <td>San Diego Padres</td>\n",
       "      <td>0</td>\n",
       "    </tr>\n",
       "    <tr>\n",
       "      <th>23</th>\n",
       "      <td>Seattle Mariners</td>\n",
       "      <td>0</td>\n",
       "    </tr>\n",
       "    <tr>\n",
       "      <th>24</th>\n",
       "      <td>San Francisco Giants</td>\n",
       "      <td>0</td>\n",
       "    </tr>\n",
       "    <tr>\n",
       "      <th>25</th>\n",
       "      <td>St. Louis Cardinals</td>\n",
       "      <td>0</td>\n",
       "    </tr>\n",
       "    <tr>\n",
       "      <th>26</th>\n",
       "      <td>Tampa Bay Rays</td>\n",
       "      <td>0</td>\n",
       "    </tr>\n",
       "    <tr>\n",
       "      <th>27</th>\n",
       "      <td>Texas Rangers</td>\n",
       "      <td>0</td>\n",
       "    </tr>\n",
       "    <tr>\n",
       "      <th>28</th>\n",
       "      <td>Toronto Blue Jays</td>\n",
       "      <td>0</td>\n",
       "    </tr>\n",
       "    <tr>\n",
       "      <th>29</th>\n",
       "      <td>Washington Nationals</td>\n",
       "      <td>0</td>\n",
       "    </tr>\n",
       "  </tbody>\n",
       "</table>\n",
       "</div>"
      ],
      "text/plain": [
       "                       Tm  predictions\n",
       "0    Arizona Diamondbacks            0\n",
       "1          Atlanta Braves            0\n",
       "2       Baltimore Orioles            0\n",
       "3          Boston Red Sox            1\n",
       "4            Chicago Cubs            0\n",
       "5       Chicago White Sox            0\n",
       "6         Cincinnati Reds            1\n",
       "7     Cleveland Guardians            0\n",
       "8        Colorado Rockies            0\n",
       "9          Detroit Tigers            0\n",
       "10         Houston Astros            0\n",
       "11     Kansas City Royals            0\n",
       "12     Los Angeles Angels            0\n",
       "13    Los Angeles Dodgers            0\n",
       "14          Miami Marlins            0\n",
       "15      Milwaukee Brewers            0\n",
       "16        Minnesota Twins            1\n",
       "17          New York Mets            0\n",
       "18       New York Yankees            0\n",
       "19      Oakland Athletics            0\n",
       "20  Philadelphia Phillies            1\n",
       "21     Pittsburgh Pirates            0\n",
       "22       San Diego Padres            0\n",
       "23       Seattle Mariners            0\n",
       "24   San Francisco Giants            0\n",
       "25    St. Louis Cardinals            0\n",
       "26         Tampa Bay Rays            0\n",
       "27          Texas Rangers            0\n",
       "28      Toronto Blue Jays            0\n",
       "29   Washington Nationals            0"
      ]
     },
     "execution_count": 25,
     "metadata": {},
     "output_type": "execute_result"
    }
   ],
   "source": [
    "df_2024['predictions'] = predictions_2024\n",
    "perdicted_2024 = df_2024[[\"Tm\", \"predictions\"]]\n",
    "\n",
    "perdicted_2024"
   ]
  },
  {
   "cell_type": "code",
   "execution_count": 26,
   "metadata": {},
   "outputs": [
    {
     "data": {
      "text/plain": [
       "{'Arizona Diamondbacks': 0,\n",
       " 'Atlanta Braves': 4,\n",
       " 'Baltimore Orioles': 0,\n",
       " 'Boston Red Sox': 22,\n",
       " 'Chicago Cubs': 2,\n",
       " 'Chicago White Sox': 10,\n",
       " 'Cincinnati Reds': 55,\n",
       " 'Cleveland Guardians': 3,\n",
       " 'Colorado Rockies': 1,\n",
       " 'Detroit Tigers': 0,\n",
       " 'Houston Astros': 11,\n",
       " 'Kansas City Royals': 15,\n",
       " 'Los Angeles Angels': 14,\n",
       " 'Los Angeles Dodgers': 0,\n",
       " 'Miami Marlins': 2,\n",
       " 'Milwaukee Brewers': 32,\n",
       " 'Minnesota Twins': 7,\n",
       " 'New York Mets': 1,\n",
       " 'New York Yankees': 10,\n",
       " 'Oakland Athletics': 0,\n",
       " 'Philadelphia Phillies': 29,\n",
       " 'Pittsburgh Pirates': 0,\n",
       " 'San Diego Padres': 4,\n",
       " 'San Francisco Giants': 0,\n",
       " 'Seattle Mariners': 1,\n",
       " 'St. Louis Cardinals': 0,\n",
       " 'Tampa Bay Rays': 21,\n",
       " 'Texas Rangers': 0,\n",
       " 'Toronto Blue Jays': 7,\n",
       " 'Washington Nationals': 37}"
      ]
     },
     "execution_count": 26,
     "metadata": {},
     "output_type": "execute_result"
    }
   ],
   "source": [
    "# Make list for all the predictions\n",
    "predictions = {}\n",
    "\n",
    "# Create loop for it to run 100 times with the model\n",
    "iterations = 100\n",
    "for i in range(iterations):\n",
    "    y = focused_df[\"playoffs\"]\n",
    "    X = focused_df.drop(columns=\"playoffs\")\n",
    "    focused_X_train, focused_X_test, focused_y_train, focused_y_test = train_test_split(X,y,stratify=y)\n",
    "    focused_lr_model = LogisticRegression(solver='liblinear', max_iter=93)\n",
    "    focused_lr_model.fit(focused_X_train, focused_y_train)\n",
    "    dump(focused_lr_model, 'log_model.joblib')\n",
    "    model = load('log_model.joblib')\n",
    "    predictions_2024 = model.predict(df_2024[index_values])\n",
    "    predictions_df = pd.DataFrame({\"Team\": df_2024[\"Tm\"], \"Prediction\": predictions_2024})\n",
    "    counts = predictions_df.groupby('Team')['Prediction'].sum().astype(int)\n",
    "    \n",
    "    for team, count in counts.items():\n",
    "        if team in predictions:\n",
    "            predictions[team] += count\n",
    "        else:\n",
    "            predictions[team] = count\n",
    "\n",
    "predictions"
   ]
  },
  {
   "cell_type": "code",
   "execution_count": null,
   "metadata": {},
   "outputs": [],
   "source": []
  }
 ],
 "metadata": {
  "file_extension": ".py",
  "kernelspec": {
   "display_name": "Python 3 (ipykernel)",
   "language": "python",
   "name": "python3"
  },
  "language_info": {
   "codemirror_mode": {
    "name": "ipython",
    "version": 3
   },
   "file_extension": ".py",
   "mimetype": "text/x-python",
   "name": "python",
   "nbconvert_exporter": "python",
   "pygments_lexer": "ipython3",
   "version": "3.10.13"
  },
  "mimetype": "text/x-python",
  "name": "python",
  "npconvert_exporter": "python",
  "pygments_lexer": "ipython3",
  "version": 3
 },
 "nbformat": 4,
 "nbformat_minor": 4
}
