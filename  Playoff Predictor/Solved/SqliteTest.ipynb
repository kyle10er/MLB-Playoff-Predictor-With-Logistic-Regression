{
 "cells": [
  {
   "cell_type": "code",
   "execution_count": 1,
   "id": "2a80efb5-3c78-4f4c-88d7-6e9683a11e8c",
   "metadata": {},
   "outputs": [],
   "source": [
    "# Python SQL toolkit and Object Relational Mapper\n",
    "import sqlalchemy\n",
    "from sqlalchemy.ext.automap import automap_base\n",
    "from sqlalchemy.orm import Session\n",
    "from sqlalchemy import create_engine, func"
   ]
  },
  {
   "cell_type": "code",
   "execution_count": 2,
   "id": "256d76cc-46a0-4d58-ad75-3d16d254089d",
   "metadata": {},
   "outputs": [],
   "source": [
    "#Create engine using Playoffs.sqlite database file\n",
    "engine = create_engine(\"sqlite:///../Playoffs.sqlite\")"
   ]
  },
  {
   "cell_type": "code",
   "execution_count": 3,
   "id": "093ae347-03a5-4aa5-a219-8b3aa6c3297e",
   "metadata": {},
   "outputs": [],
   "source": [
    "# Declare a Base using `automap_base()`\n",
    "Base = automap_base()\n",
    "\n",
    "# Use the Base class to reflect the database tables\n",
    "Base.prepare(autoload_with=engine)"
   ]
  },
  {
   "cell_type": "code",
   "execution_count": 4,
   "id": "82dfba45-e66f-4ee7-88d5-51299ea8f80d",
   "metadata": {},
   "outputs": [
    {
     "data": {
      "text/plain": [
       "['Playoffs']"
      ]
     },
     "execution_count": 4,
     "metadata": {},
     "output_type": "execute_result"
    }
   ],
   "source": [
    "#Print the classes mapped to the Base\n",
    "Base.classes.keys()"
   ]
  },
  {
   "cell_type": "code",
   "execution_count": 5,
   "id": "6d92a9ec-11f9-41de-aac2-53a80f87fe36",
   "metadata": {},
   "outputs": [],
   "source": [
    "#Assign the dow class to a variable called 'Playoffs'\n",
    "Playoffs = Base.classes.Playoffs"
   ]
  },
  {
   "cell_type": "code",
   "execution_count": 6,
   "id": "2d32bded-5dba-4dbd-b323-6405cc341f47",
   "metadata": {},
   "outputs": [],
   "source": [
    "#Create a session\n",
    "session = Session(engine)"
   ]
  },
  {
   "cell_type": "code",
   "execution_count": 7,
   "id": "e6eb96f3-8354-464d-b505-abf94001407c",
   "metadata": {},
   "outputs": [
    {
     "data": {
      "text/plain": [
       "{'_sa_instance_state': <sqlalchemy.orm.state.InstanceState at 0x106b0d360>,\n",
       " 'GF': 160.0,\n",
       " 'Rgood': 14.0,\n",
       " '#Bat': 49.0,\n",
       " 'GS_x': 1458.0,\n",
       " 'Rtot': 28.0,\n",
       " 'GS_y': 162.0,\n",
       " 'Rtot/yr': 3.0,\n",
       " 'Tm': 'Arizona Diamondbacks',\n",
       " 'G_x': 162.0,\n",
       " 'SB': 79.0,\n",
       " '#Fld': 49.0,\n",
       " 'H9': 8.1,\n",
       " 'SF': 45.0,\n",
       " '#P': 30.0,\n",
       " 'HBP_x': 52.0,\n",
       " 'SH': 38.0,\n",
       " '2B': 259.0,\n",
       " 'HBP_y': 57.0,\n",
       " 'SLG': 0.397,\n",
       " '3B': 50.0,\n",
       " 'HR9': 1.1,\n",
       " 'SO/W': 2.77,\n",
       " 'A': 1686.0,\n",
       " 'HR_x': 176.0,\n",
       " 'SO9': 8.9,\n",
       " 'AB': 5460.0,\n",
       " 'HR_y': 174.0,\n",
       " 'SO_x': 1460.0,\n",
       " 'BA': 0.235,\n",
       " 'H_x': 1283.0,\n",
       " 'SO_y': 1448.0,\n",
       " 'BB9': 3.2,\n",
       " 'H_y': 1313.0,\n",
       " 'SV': 39.0,\n",
       " 'BB_x': 560.0,\n",
       " 'IBB_x': 36.0,\n",
       " 'TB': 2170.0,\n",
       " 'BB_y': 522.0,\n",
       " 'IBB_y': 43.0,\n",
       " 'WHIP': 1.254,\n",
       " 'BF': 6139.0,\n",
       " 'IP': 1463.0,\n",
       " 'WP': 69.0,\n",
       " 'BK': 5.0,\n",
       " 'Inn': 13167.0,\n",
       " 'cSho': 1.0,\n",
       " 'BatAge': 29.2,\n",
       " 'LOB_x': 1086.0,\n",
       " 'tSho': 9.0,\n",
       " 'CG_x': 1119.0,\n",
       " 'LOB_y': 1106.0,\n",
       " 'playoffs': 0,\n",
       " 'CG_y': 2.0,\n",
       " 'OBP': 0.31,\n",
       " 'id': 1,\n",
       " 'CS': 25.0,\n",
       " 'OPS': 0.707,\n",
       " 'Ch': 6150.0,\n",
       " 'OPS+': 86.0,\n",
       " 'DP': 152.0,\n",
       " 'PA': 6157.0,\n",
       " 'DefEff': 0.698,\n",
       " 'PAge': 29.6,\n",
       " 'E': 75.0,\n",
       " 'PO': 4389.0,\n",
       " 'ER': 605.0,\n",
       " 'R/G': 4.28,\n",
       " 'ERA': 3.72,\n",
       " 'RA/G_y': 3.98,\n",
       " 'ERA+': 113.0,\n",
       " 'RBI': 658.0,\n",
       " 'G_y': 162.0,\n",
       " 'R_x': 693.0,\n",
       " 'FIP': 3.91,\n",
       " 'R_y': 644.0,\n",
       " 'Fld%': 0.988,\n",
       " 'Rdrs': 125.0,\n",
       " 'G': 162.0,\n",
       " 'Rdrs/yr': 7.0,\n",
       " 'GDP': 110.0}"
      ]
     },
     "execution_count": 7,
     "metadata": {},
     "output_type": "execute_result"
    }
   ],
   "source": [
    "first_row = session.query(Playoffs).first()\n",
    "first_row.__dict__"
   ]
  },
  {
   "cell_type": "code",
   "execution_count": null,
   "id": "1a4d9dc7-1076-4d1a-8f10-bcddfb0fd2ef",
   "metadata": {},
   "outputs": [],
   "source": []
  }
 ],
 "metadata": {
  "kernelspec": {
   "display_name": "Python 3 (ipykernel)",
   "language": "python",
   "name": "python3"
  },
  "language_info": {
   "codemirror_mode": {
    "name": "ipython",
    "version": 3
   },
   "file_extension": ".py",
   "mimetype": "text/x-python",
   "name": "python",
   "nbconvert_exporter": "python",
   "pygments_lexer": "ipython3",
   "version": "3.11.7"
  }
 },
 "nbformat": 4,
 "nbformat_minor": 5
}
