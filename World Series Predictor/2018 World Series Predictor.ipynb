{
 "cells": [
  {
   "cell_type": "code",
   "execution_count": 1,
   "metadata": {},
   "outputs": [],
   "source": [
    "# Initial imports\n",
    "import pandas as pd\n",
    "from pathlib import Path\n",
    "from sklearn.ensemble import RandomForestClassifier\n",
    "from sklearn.preprocessing import StandardScaler\n",
    "from sklearn.model_selection import train_test_split\n",
    "from sklearn.metrics import confusion_matrix, accuracy_score, classification_report\n",
    "%matplotlib inline\n"
   ]
  },
  {
   "cell_type": "code",
   "execution_count": 2,
   "metadata": {},
   "outputs": [],
   "source": [
    "batting_2018 = pd.read_csv(\"../Resources/2018Batting.csv\")\n",
    "fielding_2018 = pd.read_csv(\"../Resources/2018Fielding.csv\")\n",
    "pitching_2018 = pd.read_csv(\"../Resources/2018Pitching.csv\")"
   ]
  },
  {
   "cell_type": "code",
   "execution_count": 6,
   "metadata": {},
   "outputs": [
    {
     "data": {
      "text/plain": [
       "MultiIndex([(                   'Tm', '#Bat', 'BatAge',  'R/G',    'G', ...),\n",
       "            ( 'Arizona Diamondbacks',   '49',   '29.2', '4.28',  '162', ...),\n",
       "            (       'Atlanta Braves',   '58',   '27.3', '4.69',  '162', ...),\n",
       "            (    'Baltimore Orioles',   '56',   '28.4', '3.84',  '162', ...),\n",
       "            (       'Boston Red Sox',   '44',   '27.7', '5.41',  '162', ...),\n",
       "            (         'Chicago Cubs',   '50',   '27.2', '4.67',  '163', ...),\n",
       "            (    'Chicago White Sox',   '51',   '26.5', '4.05',  '162', ...),\n",
       "            (      'Cincinnati Reds',   '53',   '27.2', '4.30',  '162', ...),\n",
       "            (    'Cleveland Indians',   '49',   '29.4', '5.05',  '162', ...),\n",
       "            (     'Colorado Rockies',   '41',   '28.7', '4.79',  '163', ...),\n",
       "            (       'Detroit Tigers',   '49',   '27.9', '3.89',  '162', ...),\n",
       "            (       'Houston Astros',   '41',   '28.2', '4.92',  '162', ...),\n",
       "            (   'Kansas City Royals',   '49',   '28.6', '3.94',  '162', ...),\n",
       "            (   'Los Angeles Angels',   '60',   '29.6', '4.45',  '162', ...),\n",
       "            (  'Los Angeles Dodgers',   '52',   '28.1', '4.93',  '163', ...),\n",
       "            (        'Miami Marlins',   '51',   '27.5', '3.66',  '161', ...),\n",
       "            (    'Milwaukee Brewers',   '53',   '28.8', '4.63',  '163', ...),\n",
       "            (      'Minnesota Twins',   '54',   '28.2', '4.56',  '162', ...),\n",
       "            (        'New York Mets',   '56',   '28.3', '4.17',  '162', ...),\n",
       "            (     'New York Yankees',   '49',   '27.2', '5.25',  '162', ...),\n",
       "            (    'Oakland Athletics',   '53',   '28.0', '5.02',  '162', ...),\n",
       "            ('Philadelphia Phillies',   '48',   '26.7', '4.18',  '162', ...),\n",
       "            (   'Pittsburgh Pirates',   '48',   '27.8', '4.30',  '161', ...),\n",
       "            (     'San Diego Padres',   '49',   '26.8', '3.81',  '162', ...),\n",
       "            (     'Seattle Mariners',   '53',   '29.8', '4.18',  '162', ...),\n",
       "            ( 'San Francisco Giants',   '48',   '29.8', '3.72',  '162', ...),\n",
       "            (  'St. Louis Cardinals',   '49',   '28.0', '4.69',  '162', ...),\n",
       "            (       'Tampa Bay Rays',   '54',   '27.1', '4.42',  '162', ...),\n",
       "            (        'Texas Rangers',   '50',   '27.4', '4.55',  '162', ...),\n",
       "            (    'Toronto Blue Jays',   '63',   '28.9', '4.38',  '162', ...),\n",
       "            ( 'Washington Nationals',   '53',   '27.6', '4.76',  '162', ...),\n",
       "            (       'League Average',   '46',   '28.1', '4.45',  '162', ...),\n",
       "            (                    nan, '1379',   '28.1', '4.45', '4862', ...)],\n",
       "           )"
      ]
     },
     "execution_count": 6,
     "metadata": {},
     "output_type": "execute_result"
    }
   ],
   "source": [
    "batting_2018.index"
   ]
  },
  {
   "cell_type": "code",
   "execution_count": null,
   "metadata": {},
   "outputs": [],
   "source": [
    "batting_2018.reset_index(inplace=True)\n",
    "\n",
    "batting_2018"
   ]
  },
  {
   "cell_type": "code",
   "execution_count": null,
   "metadata": {},
   "outputs": [],
   "source": [
    "batfield_2018 = pd.merge(batting_2018, fielding_2018, on = 'Tm')\n",
    "\n",
    "# batfield_2018 = pd.merge(batting_2018, fielding_2018, left_index=True, right_index=True)\n",
    "\n",
    "# full_2018 = pd.merge(batfield_2018, pitching_2018, on='Tm')\n",
    "\n",
    "# full_2018\n",
    "\n",
    "batfield_2018"
   ]
  },
  {
   "cell_type": "code",
   "execution_count": null,
   "metadata": {},
   "outputs": [],
   "source": [
    "print(full_2018['Tm'].values)"
   ]
  },
  {
   "cell_type": "code",
   "execution_count": null,
   "metadata": {
    "scrolled": true
   },
   "outputs": [],
   "source": [
    "def playoff_teams(Tm):\n",
    "    if Tm in ['Chicago Cubs', 'Colorado Rockies', 'Oakland Athletics', 'New York Yankees','Los Angeles Dodgers', 'Atlanta Braves','Milwaukee Brewers', 'Houston Astros', 'Cleveland Indians','Boston Red Sox']:\n",
    "        return '1'\n",
    "    else:\n",
    "        return '0'\n",
    "\n",
    "# Apply the function to create a new column 'Category' based on 'Fruit' column\n",
    "full_2018['playoffs'] = full_2018['Tm'].apply(playoff_teams)\n",
    "\n",
    "full_2018"
   ]
  },
  {
   "cell_type": "code",
   "execution_count": null,
   "metadata": {},
   "outputs": [],
   "source": [
    "full_2018.set_index('Tm', inplace=True)\n",
    "\n",
    "full_2018"
   ]
  },
  {
   "cell_type": "code",
   "execution_count": null,
   "metadata": {},
   "outputs": [],
   "source": []
  },
  {
   "cell_type": "code",
   "execution_count": null,
   "metadata": {},
   "outputs": [],
   "source": [
    "# Define features set\n",
    "X = full_2018.copy()\n",
    "X.drop(\"Yes\", axis=1, inplace=True)\n",
    "X.head()"
   ]
  },
  {
   "cell_type": "code",
   "execution_count": null,
   "metadata": {},
   "outputs": [],
   "source": [
    "# Define target vector\n",
    "y = scaled_dummied_2018[\"Yes\"].ravel()\n",
    "y[:5]"
   ]
  },
  {
   "cell_type": "code",
   "execution_count": null,
   "metadata": {},
   "outputs": [],
   "source": [
    "# Splitting into Train and Test sets\n",
    "X_train, X_test, y_train, y_test = train_test_split(X, y, random_state=78)"
   ]
  },
  {
   "cell_type": "code",
   "execution_count": null,
   "metadata": {},
   "outputs": [],
   "source": [
    "# Creating StandardScaler instance\n",
    "scaler = StandardScaler()"
   ]
  },
  {
   "cell_type": "code",
   "execution_count": null,
   "metadata": {},
   "outputs": [],
   "source": [
    "# Fitting Standard Scaller\n",
    "X_scaler = scaler.fit(X_train)"
   ]
  },
  {
   "cell_type": "code",
   "execution_count": null,
   "metadata": {},
   "outputs": [],
   "source": [
    "# Scaling data\n",
    "X_train_scaled = X_scaler.transform(X_train)\n",
    "X_test_scaled = X_scaler.transform(X_test)"
   ]
  },
  {
   "cell_type": "markdown",
   "metadata": {},
   "source": [
    "## Fitting the Random Forest Model"
   ]
  },
  {
   "cell_type": "code",
   "execution_count": null,
   "metadata": {},
   "outputs": [],
   "source": [
    "# Create a random forest classifier\n",
    "rf_model = RandomForestClassifier(n_estimators=500, random_state=78)"
   ]
  },
  {
   "cell_type": "code",
   "execution_count": null,
   "metadata": {},
   "outputs": [],
   "source": [
    "# Fitting the model\n",
    "rf_model = rf_model.fit(X_train_scaled, y_train)"
   ]
  },
  {
   "cell_type": "markdown",
   "metadata": {},
   "source": [
    "## Making Predictions Using the Random Forest Model"
   ]
  },
  {
   "cell_type": "code",
   "execution_count": null,
   "metadata": {},
   "outputs": [],
   "source": [
    "# Making predictions using the testing data\n",
    "predictions = rf_model.predict(X_test_scaled)"
   ]
  },
  {
   "cell_type": "markdown",
   "metadata": {},
   "source": [
    "## Model Evaluation"
   ]
  },
  {
   "cell_type": "code",
   "execution_count": null,
   "metadata": {},
   "outputs": [],
   "source": [
    "# Calculating the confusion matrix\n",
    "cm = confusion_matrix(y_test, predictions)\n",
    "cm_df = pd.DataFrame(\n",
    "    cm, index=[\"Actual 0\", \"Actual 1\"], columns=[\"Predicted 0\", \"Predicted 1\"]\n",
    ")\n",
    "\n",
    "# Calculating the accuracy score\n",
    "acc_score = accuracy_score(y_test, predictions)"
   ]
  },
  {
   "cell_type": "code",
   "execution_count": null,
   "metadata": {},
   "outputs": [],
   "source": [
    "# Displaying results\n",
    "print(\"Confusion Matrix\")\n",
    "display(cm_df)\n",
    "print(f\"Accuracy Score : {acc_score}\")\n",
    "print(\"Classification Report\")\n",
    "print(classification_report(y_test, predictions))"
   ]
  },
  {
   "cell_type": "markdown",
   "metadata": {},
   "source": [
    "## Feature Importance"
   ]
  },
  {
   "cell_type": "code",
   "execution_count": null,
   "metadata": {},
   "outputs": [],
   "source": [
    "# Random Forests in sklearn will automatically calculate feature importance\n",
    "importances = rf_model.feature_importances_\n",
    "# We can sort the features by their importance\n",
    "sorted(zip(rf_model.feature_importances_, X.columns), reverse=True)"
   ]
  },
  {
   "cell_type": "code",
   "execution_count": null,
   "metadata": {},
   "outputs": [],
   "source": [
    "# Visualize the features by importance\n",
    "importances_df = pd.DataFrame(sorted(zip(rf_model.feature_importances_, X.columns), reverse=True))\n",
    "importances_df.set_index(importances_df[1], inplace=True)\n",
    "importances_df.drop(columns=1, inplace=True)\n",
    "importances_df.rename(columns={0: 'Feature Importances'}, inplace=True)\n",
    "importances_sorted = importances_df.sort_values(by='Feature Importances')\n",
    "importances_sorted.plot(kind='barh', color='lightgreen', title= 'Features Importances', legend=False)"
   ]
  },
  {
   "cell_type": "code",
   "execution_count": null,
   "metadata": {},
   "outputs": [],
   "source": []
  }
 ],
 "metadata": {
  "file_extension": ".py",
  "kernelspec": {
   "display_name": "Python 3 (ipykernel)",
   "language": "python",
   "name": "python3"
  },
  "language_info": {
   "codemirror_mode": {
    "name": "ipython",
    "version": 3
   },
   "file_extension": ".py",
   "mimetype": "text/x-python",
   "name": "python",
   "nbconvert_exporter": "python",
   "pygments_lexer": "ipython3",
   "version": "3.10.13"
  },
  "mimetype": "text/x-python",
  "name": "python",
  "npconvert_exporter": "python",
  "pygments_lexer": "ipython3",
  "version": 3
 },
 "nbformat": 4,
 "nbformat_minor": 4
}
